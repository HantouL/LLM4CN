{
 "cells": [
  {
   "cell_type": "markdown",
   "metadata": {},
   "source": [
    "### Without LLMs-based Evolution on Jazz"
   ]
  },
  {
   "cell_type": "code",
   "execution_count": null,
   "metadata": {},
   "outputs": [],
   "source": [
    "import networkx as nx\n",
    "import numpy as np\n",
    "from scipy.sparse.linalg import eigsh\n",
    "\n",
    "def score_nodes(adj_matrix):\n",
    "    G = nx.from_numpy_array(adj_matrix)\n",
    "    scored_nodes = {node: 0 for node in G.nodes()}\n",
    "    centralities = nx.betweenness_centrality(G)\n",
    "    for node, centrality in centralities.items():\n",
    "        scored_nodes[node] += centrality\n",
    "    LCC = G.subgraph(max(nx.connected_components(G), key=len))\n",
    "    L = nx.laplacian_matrix(LCC)\n",
    "    eigenvalues, eigenvectors = eigsh(L.astype(np.float32), k=2, which='SM')\n",
    "    Fiedler = eigenvectors[:, 1]\n",
    "    H = nx.Graph()\n",
    "    for u, v in LCC.edges():\n",
    "        if Fiedler[list(LCC.nodes()).index(u)] * Fiedler[list(LCC.nodes()).index(v)] <= 0.0:\n",
    "            H.add_edge(u, v)\n",
    "    for v in H.nodes():\n",
    "        scored_nodes[v] += 1.0 / H.degree(v)\n",
    "    cover = nx.algorithms.approximation.min_weighted_vertex_cover(H)\n",
    "    for v in cover:\n",
    "        scored_nodes[v] += 1\n",
    "    return scored_nodes"
   ]
  },
  {
   "cell_type": "markdown",
   "metadata": {},
   "source": [
    "### Without Manual Initialization on Jazz"
   ]
  },
  {
   "cell_type": "code",
   "execution_count": null,
   "metadata": {},
   "outputs": [],
   "source": [
    "import networkx as nx\n",
    "\n",
    "def score_nodes(adj_matrix):\n",
    "    num_nodes = adj_matrix.shape[0]\n",
    "    adjacency_matrix = adj_matrix.copy()\n",
    "    scored_nodes = {}\n",
    "\n",
    "    G = nx.Graph(adjacency_matrix)\n",
    "    betweenness = nx.betweenness_centrality(G)\n",
    "\n",
    "    for node in range(num_nodes):\n",
    "        neighbors = np.where(adjacency_matrix[node] == 1)[0]\n",
    "        num_neighbors = len(neighbors)\n",
    "\n",
    "        if num_neighbors < 2:\n",
    "            score = 0.0\n",
    "        else:\n",
    "            sum_scores = 0.0\n",
    "            for i in range(num_neighbors):\n",
    "                for j in range(i + 1, num_neighbors):\n",
    "                    if adjacency_matrix[neighbors[i], neighbors[j]] == 1:\n",
    "                        sum_scores += betweenness[node] * (1.0 / (num_neighbors * (num_neighbors - 1)))\n",
    "\n",
    "            score = sum_scores / num_neighbors\n",
    "\n",
    "        scored_nodes[node] = score\n",
    "\n",
    "    return scored_nodes"
   ]
  },
  {
   "cell_type": "markdown",
   "metadata": {},
   "source": [
    "### Without Population Management on Jazz"
   ]
  },
  {
   "cell_type": "code",
   "execution_count": null,
   "metadata": {},
   "outputs": [],
   "source": [
    "import numpy as np\n",
    "import networkx as nx\n",
    "from scipy.sparse.linalg import eigsh\n",
    "\n",
    "def score_nodes(edge_matrix):\n",
    "    adjacency_matrix = np.array(edge_matrix)\n",
    "    num_nodes = adjacency_matrix.shape[0]\n",
    "    node_degree_map = np.sum(adjacency_matrix, axis=0)\n",
    "    clustering_coefficients = np.zeros(num_nodes)\n",
    "    for node in range(num_nodes):\n",
    "        neighbors = np.where(adjacency_matrix[node] == 1)[0]\n",
    "        num_neighbors = len(neighbors)\n",
    "        if num_neighbors < 2:\n",
    "            clustering_coefficients[node] = 0.0\n",
    "        else:\n",
    "            num_connected_pairs = 0\n",
    "            for i in range(num_neighbors):\n",
    "                for j in range(i + 1, num_neighbors):\n",
    "                    if adjacency_matrix[neighbors[i], neighbors[j]] == 1:\n",
    "                        num_connected_pairs += 1\n",
    "            clustering_coefficients[node] = (2.0 * num_connected_pairs) / (num_neighbors * (num_neighbors - 1))\n",
    "    \n",
    "    G = nx.from_numpy_array(adjacency_matrix)\n",
    "    LCC = G.subgraph(max(nx.connected_components(G), key=len))\n",
    "    \n",
    "    ii = {v: i for i, v in enumerate(LCC.nodes())}\n",
    "    L = nx.normalized_laplacian_matrix(LCC)\n",
    "    eigenvalues, eigenvectors = eigsh(L.astype(np.float32), k=2, which='SM', maxiter=1000 * L.shape[0])\n",
    "    Fiedler = eigenvectors[:, 1]\n",
    "\n",
    "    H = nx.Graph([(u, v) for u, v in LCC.edges() if Fiedler[ii[u]] * Fiedler[ii[v]] <= 0.0])\n",
    "    for v in H.nodes():\n",
    "        H.nodes[v]['weight'] = 1.0 / H.degree(v)\n",
    "    cover = list(nx.algorithms.approximation.min_weighted_vertex_cover(H, weight='weight'))\n",
    "    max_degree = max([G.degree(v) for v in G.nodes() if v not in cover])\n",
    "    min_weight = min(H.nodes[v]['weight'] for v in H.nodes())\n",
    "    scored_nodes = {v: H.nodes[v]['weight'] if v in cover else clustering_coefficients[node_id] * min_weight for v, node_id in enumerate(G.nodes())}\n",
    "    \n",
    "    return scored_nodes"
   ]
  },
  {
   "cell_type": "code",
   "execution_count": null,
   "metadata": {},
   "outputs": [],
   "source": []
  }
 ],
 "metadata": {
  "kernelspec": {
   "display_name": "torch-2.0.1-cu117-py39",
   "language": "python",
   "name": "python3"
  },
  "language_info": {
   "name": "python",
   "version": "3.9.17"
  }
 },
 "nbformat": 4,
 "nbformat_minor": 2
}
